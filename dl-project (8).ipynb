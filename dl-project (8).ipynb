{
 "cells": [
  {
   "cell_type": "code",
   "execution_count": 1,
   "id": "a849fe7a",
   "metadata": {
    "_cell_guid": "b1076dfc-b9ad-4769-8c92-a6c4dae69d19",
    "_uuid": "8f2839f25d086af736a60e9eeb907d3b93b6e0e5",
    "execution": {
     "iopub.execute_input": "2024-11-24T08:10:45.560199Z",
     "iopub.status.busy": "2024-11-24T08:10:45.559917Z",
     "iopub.status.idle": "2024-11-24T08:10:57.812203Z",
     "shell.execute_reply": "2024-11-24T08:10:57.811423Z"
    },
    "papermill": {
     "duration": 12.258807,
     "end_time": "2024-11-24T08:10:57.814100",
     "exception": false,
     "start_time": "2024-11-24T08:10:45.555293",
     "status": "completed"
    },
    "tags": []
   },
   "outputs": [],
   "source": [
    "import os\n",
    "import matplotlib.pyplot as plt\n",
    "from PIL import Image\n",
    "import random\n",
    "import os\n",
    "from collections import defaultdict\n",
    "from tensorflow.keras.models import load_model\n",
    "from tensorflow.keras.preprocessing.image import img_to_array, load_img, ImageDataGenerator\n",
    "from sklearn.model_selection import train_test_split\n",
    "import numpy as np\n",
    "from tensorflow.keras.applications.inception_v3 import InceptionV3\n",
    "from tensorflow.keras.models import Model\n",
    "from tensorflow.keras import layers, optimizers, backend, models\n",
    "from tensorflow.keras.layers import GlobalAveragePooling2D\n",
    "from tensorflow.keras.callbacks import EarlyStopping\n",
    "from tensorflow.keras.utils import plot_model\n",
    "from IPython.display import display\n",
    "import argparse\n",
    "import tensorflow as tf"
   ]
  },
  {
   "cell_type": "code",
   "execution_count": 2,
   "id": "fbaf2947",
   "metadata": {
    "execution": {
     "iopub.execute_input": "2024-11-24T08:10:57.822084Z",
     "iopub.status.busy": "2024-11-24T08:10:57.821622Z",
     "iopub.status.idle": "2024-11-24T08:10:57.827370Z",
     "shell.execute_reply": "2024-11-24T08:10:57.826565Z"
    },
    "papermill": {
     "duration": 0.011341,
     "end_time": "2024-11-24T08:10:57.829018",
     "exception": false,
     "start_time": "2024-11-24T08:10:57.817677",
     "status": "completed"
    },
    "tags": []
   },
   "outputs": [],
   "source": [
    "def show_samples(data_path, img_path):\n",
    "\tall_imgs = os.listdir(img_path)\n",
    "\tsample_img = random.sample(all_imgs, 9)\n",
    "\tsample_img_path   =  [  os.path.join(img_path, sample)  for sample in sample_img ]\n",
    "\t\n",
    "\tfig, axes = plt.subplots(3, 3 , figsize = (10, 10) )\n",
    "\tfor ax, img in zip(axes.flatten(), sample_img_path):\n",
    "\t\timage = Image.open(img)\n",
    "\t\tax.imshow(image)\n",
    "\t\tax.axis('off')\n",
    "\t\n",
    "\tplt.tight_layout()\n",
    "\tplt.subplots_adjust(top = 0.9)\n",
    "\tplt.suptitle(\"Sample Images\" , fontsize = 16)\n",
    "\tplt.show()\n"
   ]
  },
  {
   "cell_type": "code",
   "execution_count": 3,
   "id": "f89537bf",
   "metadata": {
    "execution": {
     "iopub.execute_input": "2024-11-24T08:10:57.836268Z",
     "iopub.status.busy": "2024-11-24T08:10:57.836017Z",
     "iopub.status.idle": "2024-11-24T08:11:01.925047Z",
     "shell.execute_reply": "2024-11-24T08:11:01.924125Z"
    },
    "papermill": {
     "duration": 4.094961,
     "end_time": "2024-11-24T08:11:01.927131",
     "exception": false,
     "start_time": "2024-11-24T08:10:57.832170",
     "status": "completed"
    },
    "tags": []
   },
   "outputs": [],
   "source": [
    "persimmon_model  = load_model('/kaggle/input/persimmon_bansi_inceptionv3/keras/default/1/cabbage_model.h5')\n"
   ]
  },
  {
   "cell_type": "code",
   "execution_count": 4,
   "id": "22bac188",
   "metadata": {
    "execution": {
     "iopub.execute_input": "2024-11-24T08:11:01.935019Z",
     "iopub.status.busy": "2024-11-24T08:11:01.934681Z",
     "iopub.status.idle": "2024-11-24T08:11:10.530404Z",
     "shell.execute_reply": "2024-11-24T08:11:10.529663Z"
    },
    "papermill": {
     "duration": 8.601911,
     "end_time": "2024-11-24T08:11:10.532467",
     "exception": false,
     "start_time": "2024-11-24T08:11:01.930556",
     "status": "completed"
    },
    "tags": []
   },
   "outputs": [],
   "source": [
    "patterns = [ \"11_1TOP\", \"2_2FR45\", \"7_2FR45\", \"12_2FR45\", \"17_2FR45\",\n",
    "        \"22_2FR45\", \"27_2FR45\", \"32_2FR45\", \"37_2FR45\", \"21_1TOP\" ]\n",
    "\n",
    "\n",
    "def select_imgs(img_path):\n",
    "    selected_imgs_list = [img for img in img_path if any(pattern in img for pattern in patterns) ]\n",
    "    return selected_imgs_list\n",
    "\n",
    "\n",
    "data_path_2 = '/kaggle/input/test-persimmon-bansi'\n",
    "\n",
    "img_path_2s = os.path.join(data_path_2, 'persimmon_bansi_S')\n",
    "img_path_2m = os.path.join(data_path_2, 'persimmon_bansi_M')\n",
    "img_path_2l = os.path.join(data_path_2, 'persimmon_bansi_L')\n",
    "\n",
    "img_2s =  os.listdir(img_path_2s)\n",
    "img_2m =  os.listdir(img_path_2m)\n",
    "img_2l =  os.listdir(img_path_2l)\n",
    "\n",
    "img_2s_list = select_imgs(img_2s)\n",
    "img_2m_list = select_imgs(img_2m)\n",
    "img_2l_list = select_imgs(img_2l)\n",
    "\n",
    "\n",
    "test_img_s =  [os.path.join(img_path_2s, img) for img  in img_2s_list if \"76\" not in img]\n",
    "test_img_m =  [os.path.join(img_path_2m, img) for img  in img_2m_list if \"76\" not in img]\n",
    "test_img_l =  [os.path.join(img_path_2l, img) for img  in img_2l_list if \"76\" not in img]\n",
    "\n",
    "\n",
    "\n",
    "test_persimmon_bansi_s = sorted(test_img_s, key = lambda x: ( \\\n",
    "                                    int(x.split(\"bansi_S_\")[1].split(\"-\")[0]),\n",
    "                                    int(x.split(\"bansi_S_\")[1].split(\"-\")[1].split(\"_\")[0])\n",
    "                                   ) )\n",
    "\n",
    "test_persimmon_bansi_m = sorted(test_img_m, key = lambda x: ( \\\n",
    "                                    int(x.split(\"bansi_M_\")[1].split(\"-\")[0]),\n",
    "                                    int(x.split(\"bansi_M_\")[1].split(\"-\")[1].split(\"_\")[0])\n",
    "                                   ) )\n",
    "\n",
    "test_persimmon_bansi_l = sorted(test_img_l, key = lambda x: ( \\\n",
    "                                    int(x.split(\"bansi_L_\")[1].split(\"-\")[0]),\n",
    "                                    int(x.split(\"bansi_L_\")[1].split(\"-\")[1].split(\"_\")[0])\n",
    "                                   ) )\n",
    "\n",
    "test_images = []\n",
    "test_labels = []\n",
    "\n",
    "\n",
    "def test_load_and_label(image_path, label):\n",
    "    for image in image_path:\n",
    "        img = load_img(image, target_size = (224, 224))\n",
    "        img_array =img_to_array(img) / 225.0\n",
    "        test_images.append(img_array)\n",
    "        test_labels.append(label)\n",
    "\n",
    "test_load_and_label(test_persimmon_bansi_s, 0)\n",
    "test_load_and_label(test_persimmon_bansi_m, 1)\n",
    "test_load_and_label(test_persimmon_bansi_l, 2)\n",
    "\n",
    "\n",
    "test_images = np.array(test_images)\n",
    "test_labels = np.array(test_labels)"
   ]
  },
  {
   "cell_type": "code",
   "execution_count": 5,
   "id": "cbb087cd",
   "metadata": {
    "execution": {
     "iopub.execute_input": "2024-11-24T08:11:10.541282Z",
     "iopub.status.busy": "2024-11-24T08:11:10.541007Z",
     "iopub.status.idle": "2024-11-24T08:11:10.546733Z",
     "shell.execute_reply": "2024-11-24T08:11:10.545985Z"
    },
    "papermill": {
     "duration": 0.011275,
     "end_time": "2024-11-24T08:11:10.548323",
     "exception": false,
     "start_time": "2024-11-24T08:11:10.537048",
     "status": "completed"
    },
    "tags": []
   },
   "outputs": [
    {
     "data": {
      "text/plain": [
       "['/kaggle/input/test-persimmon-bansi/persimmon_bansi_L/persimmon_bansi_L_77-2_2FR45.png',\n",
       " '/kaggle/input/test-persimmon-bansi/persimmon_bansi_L/persimmon_bansi_L_77-7_2FR45.png',\n",
       " '/kaggle/input/test-persimmon-bansi/persimmon_bansi_L/persimmon_bansi_L_77-11_1TOP.png',\n",
       " '/kaggle/input/test-persimmon-bansi/persimmon_bansi_L/persimmon_bansi_L_77-12_2FR45.png',\n",
       " '/kaggle/input/test-persimmon-bansi/persimmon_bansi_L/persimmon_bansi_L_77-17_2FR45.png']"
      ]
     },
     "execution_count": 5,
     "metadata": {},
     "output_type": "execute_result"
    }
   ],
   "source": [
    "test_persimmon_bansi_l[:5]"
   ]
  },
  {
   "cell_type": "code",
   "execution_count": 6,
   "id": "5f64aea2",
   "metadata": {
    "execution": {
     "iopub.execute_input": "2024-11-24T08:11:10.556678Z",
     "iopub.status.busy": "2024-11-24T08:11:10.556442Z",
     "iopub.status.idle": "2024-11-24T08:11:11.044250Z",
     "shell.execute_reply": "2024-11-24T08:11:11.043182Z"
    },
    "papermill": {
     "duration": 0.493001,
     "end_time": "2024-11-24T08:11:11.045605",
     "exception": true,
     "start_time": "2024-11-24T08:11:10.552604",
     "status": "failed"
    },
    "tags": []
   },
   "outputs": [
    {
     "ename": "NameError",
     "evalue": "name 'test_img_paths' is not defined",
     "output_type": "error",
     "traceback": [
      "\u001b[0;31m---------------------------------------------------------------------------\u001b[0m",
      "\u001b[0;31mNameError\u001b[0m                                 Traceback (most recent call last)",
      "Cell \u001b[0;32mIn[6], line 3\u001b[0m\n\u001b[1;32m      1\u001b[0m grouped_images \u001b[38;5;241m=\u001b[39m defaultdict(\u001b[38;5;28mlist\u001b[39m)\n\u001b[0;32m----> 3\u001b[0m \u001b[38;5;28;01mfor\u001b[39;00m img_path \u001b[38;5;129;01min\u001b[39;00m \u001b[43mtest_img_paths\u001b[49m:\n\u001b[1;32m      4\u001b[0m \tfruit_id \u001b[38;5;241m=\u001b[39m img_path\u001b[38;5;241m.\u001b[39msplit(\u001b[38;5;124m\"\u001b[39m\u001b[38;5;124m-\u001b[39m\u001b[38;5;124m\"\u001b[39m)[\u001b[38;5;241m2\u001b[39m]\u001b[38;5;241m.\u001b[39msplit(\u001b[38;5;124m\"\u001b[39m\u001b[38;5;124m_\u001b[39m\u001b[38;5;124m\"\u001b[39m)[\u001b[38;5;241m-\u001b[39m\u001b[38;5;241m1\u001b[39m]\n\u001b[1;32m      5\u001b[0m \tgrouped_images[fruit_id]\u001b[38;5;241m.\u001b[39mappend(img_path)\n",
      "\u001b[0;31mNameError\u001b[0m: name 'test_img_paths' is not defined"
     ]
    }
   ],
   "source": [
    "grouped_images = defaultdict(list)\n",
    "\n",
    "for img_path in test_img_paths:\n",
    "\tfruit_id = img_path.split(\"-\")[2].split(\"_\")[-1]\n",
    "\tgrouped_images[fruit_id].append(img_path)\n",
    "\n",
    "def predict_group(model, image_paths):\n",
    "\tpreds = []\n",
    "\n",
    "\tfor img_path in image_paths:\n",
    "\t\timg = load_img(img_path, target_size = (224, 224))\n",
    "\t\timg_array = img_to_array(img) / 255.0\n",
    "\t\timg_array = np.expand_dims(img_array, axis = 0)\n",
    "\n",
    "\t\tpred = mode.predict(img_array)\n",
    "\t\tpreds.append(pred)\n",
    "\n",
    "\tavg_pred = np.mean(preds, axis = 0)\n",
    "\t\n",
    "\tfinal_class = np.argmax(avg_pred)\n",
    "\n",
    "\treturn final_class, avg_pred\n",
    "\n",
    "\n",
    "for fruit_id, img_paths in grouped_images.items():\n",
    "\tfinal_class, avg_pred = predict_group(persimmon_model, img_paths)"
   ]
  },
  {
   "cell_type": "code",
   "execution_count": null,
   "id": "4bcdd246",
   "metadata": {
    "execution": {
     "iopub.execute_input": "2024-11-24T07:15:56.006373Z",
     "iopub.status.busy": "2024-11-24T07:15:56.005592Z",
     "iopub.status.idle": "2024-11-24T07:15:56.048797Z",
     "shell.execute_reply": "2024-11-24T07:15:56.048161Z",
     "shell.execute_reply.started": "2024-11-24T07:15:56.006340Z"
    },
    "papermill": {
     "duration": null,
     "end_time": null,
     "exception": null,
     "start_time": null,
     "status": "pending"
    },
    "tags": []
   },
   "outputs": [],
   "source": [
    "patterns = [ \"11_1TOP\", \"2_2FR45\", \"7_2FR45\", \"12_2FR45\", \"17_2FR45\",\n",
    "        \"22_2FR45\", \"27_2FR45\", \"32_2FR45\", \"37_2FR45\", \"21_1TOP\" ]\n",
    "\n",
    "def select_imgs(img_path):\n",
    "    selected_imgs_list = [img for img in img_path if any(pattern in img for pattern in patterns) ]\n",
    "    return selected_imgs_list\n",
    "\n",
    "\n",
    "data_path = '/kaggle/input/training-persimmon-bansi'\n",
    "data_path_2 = '/kaggle/input/test-persimmon-bansi'\n",
    "\n",
    "img_path_s = os.path.join(data_path, 'persimmon_bansi_S')\n",
    "img_path_m = os.path.join(data_path, 'persimmon_bansi_M')\n",
    "img_path_l = os.path.join(data_path, 'persimmon_bansi_L')\n",
    "img_path_2s = os.path.join(data_path_2, 'persimmon_bansi_S')\n",
    "img_path_2m = os.path.join(data_path_2, 'persimmon_bansi_M')\n",
    "img_path_2l = os.path.join(data_path_2, 'persimmon_bansi_L')\n",
    "\n",
    "img_s =  os.listdir(img_path_s)\n",
    "img_m =  os.listdir(img_path_m)\n",
    "img_l =  os.listdir(img_path_l)\n",
    "img_2s =  os.listdir(img_path_2s)\n",
    "img_2m =  os.listdir(img_path_2m)\n",
    "img_2l =  os.listdir(img_path_2l)\n",
    "\n",
    "img_s_list = select_imgs(img_s)\n",
    "img_m_list = select_imgs(img_m)\n",
    "img_l_list = select_imgs(img_l)\n",
    "img_2s_list = select_imgs(img_2s)\n",
    "img_2m_list = select_imgs(img_2m)\n",
    "img_2l_list = select_imgs(img_2l)\n",
    "\n",
    "training_img_s =  [os.path.join(img_path_s, img) for img  in img_s_list if '59' not in img]\n",
    "training_img_m =  [os.path.join(img_path_m, img) for img  in img_m_list if '59' not in img]\n",
    "training_img_l =  [os.path.join(img_path_l, img) for img  in img_l_list if '59' not in img]\n",
    "\n",
    "test_img_s =  [os.path.join(img_path_2s, img) for img  in img_2s_list if \"76\" not in img]\n",
    "test_img_m =  [os.path.join(img_path_2m, img) for img  in img_2m_list if \"76\" not in img]\n",
    "test_img_l =  [os.path.join(img_path_2l, img) for img  in img_2l_list if \"76\" not in img]\n",
    "\n",
    "\n",
    "# persimmon_bansi_training : 1 ~ 58 (delete 59)\n",
    "# persimmon_bansi_test : 77 ~ 84 (delete 76)\n"
   ]
  },
  {
   "cell_type": "code",
   "execution_count": null,
   "id": "17bb79f6",
   "metadata": {
    "execution": {
     "iopub.execute_input": "2024-11-24T07:15:59.269229Z",
     "iopub.status.busy": "2024-11-24T07:15:59.268414Z",
     "iopub.status.idle": "2024-11-24T07:15:59.280512Z",
     "shell.execute_reply": "2024-11-24T07:15:59.279583Z",
     "shell.execute_reply.started": "2024-11-24T07:15:59.269195Z"
    },
    "papermill": {
     "duration": null,
     "end_time": null,
     "exception": null,
     "start_time": null,
     "status": "pending"
    },
    "tags": []
   },
   "outputs": [],
   "source": [
    "training_persimmon_bansi_s = sorted(training_img_s, key = lambda x: ( \\\n",
    "                                    int(x.split(\"bansi_S_\")[1].split(\"-\")[0]),\n",
    "                                    int(x.split(\"bansi_S_\")[1].split(\"-\")[1].split(\"_\")[0])\n",
    "                                   ) )\n",
    "\n",
    "training_persimmon_bansi_m = sorted(training_img_m, key = lambda x: ( \\\n",
    "                                    int(x.split(\"bansi_M_\")[1].split(\"-\")[0]),\n",
    "                                    int(x.split(\"bansi_M_\")[1].split(\"-\")[1].split(\"_\")[0])\n",
    "                                   ) )\n",
    "\n",
    "training_persimmon_bansi_l = sorted(training_img_l, key = lambda x: ( \\\n",
    "                                    int(x.split(\"bansi_L_\")[1].split(\"-\")[0]),\n",
    "                                    int(x.split(\"bansi_L_\")[1].split(\"-\")[1].split(\"_\")[0])\n",
    "                                   ) )\n",
    "\n",
    "\n",
    "test_persimmon_bansi_s = sorted(test_img_s, key = lambda x: ( \\\n",
    "                                    int(x.split(\"bansi_S_\")[1].split(\"-\")[0]),\n",
    "                                    int(x.split(\"bansi_S_\")[1].split(\"-\")[1].split(\"_\")[0])\n",
    "                                   ) )\n",
    "\n",
    "test_persimmon_bansi_m = sorted(test_img_m, key = lambda x: ( \\\n",
    "                                    int(x.split(\"bansi_M_\")[1].split(\"-\")[0]),\n",
    "                                    int(x.split(\"bansi_M_\")[1].split(\"-\")[1].split(\"_\")[0])\n",
    "                                   ) )\n",
    "\n",
    "test_persimmon_bansi_l = sorted(test_img_l, key = lambda x: ( \\\n",
    "                                    int(x.split(\"bansi_L_\")[1].split(\"-\")[0]),\n",
    "                                    int(x.split(\"bansi_L_\")[1].split(\"-\")[1].split(\"_\")[0])\n",
    "                                   ) )"
   ]
  },
  {
   "cell_type": "code",
   "execution_count": null,
   "id": "1a6cdece",
   "metadata": {
    "execution": {
     "iopub.execute_input": "2024-11-24T08:08:07.200616Z",
     "iopub.status.busy": "2024-11-24T08:08:07.200267Z",
     "iopub.status.idle": "2024-11-24T08:08:07.207349Z",
     "shell.execute_reply": "2024-11-24T08:08:07.206233Z",
     "shell.execute_reply.started": "2024-11-24T08:08:07.200586Z"
    },
    "papermill": {
     "duration": null,
     "end_time": null,
     "exception": null,
     "start_time": null,
     "status": "pending"
    },
    "tags": []
   },
   "outputs": [],
   "source": [
    "grouped_images = defaultdict(list)\n",
    "\n",
    "\n",
    "test_img_paths = test_persimmon_bansi_s + test_persimmon_bansi_m + test_persimmon_bansi_l\n",
    "\n",
    "\n",
    "for img_path in test_img_paths:\n",
    "\tfruit_id = img_path.split(\"-\")[2].split(\"persimmon_bansi_\")[2]\n",
    "\tgrouped_images[fruit_id].append(img_path)\n",
    "\n",
    "def predict_group(model, image_paths):\n",
    "\tpreds = []\n",
    "\n",
    "\tfor img_path in image_paths:\n",
    "\t\timg = load_img(img_path, target_size = (224, 224))\n",
    "\t\timg_array = img_to_array(img) / 255.0\n",
    "\t\timg_array = np.expand_dims(img_array, axis = 0)\n",
    "\n",
    "\t\tpred = model.predict(img_array)\n",
    "\t\tpreds.append(pred)\n",
    "\n",
    "\tavg_pred = np.mean(preds, axis = 0)\n",
    "\t\n",
    "\tfinal_class = np.argmax(avg_pred)\n",
    "\n",
    "\treturn final_class, avg_pred\n",
    "    "
   ]
  },
  {
   "cell_type": "code",
   "execution_count": null,
   "id": "54c75d26",
   "metadata": {
    "collapsed": true,
    "execution": {
     "iopub.execute_input": "2024-11-24T08:08:09.253150Z",
     "iopub.status.busy": "2024-11-24T08:08:09.252453Z",
     "iopub.status.idle": "2024-11-24T08:08:37.618174Z",
     "shell.execute_reply": "2024-11-24T08:08:37.617306Z",
     "shell.execute_reply.started": "2024-11-24T08:08:09.253112Z"
    },
    "jupyter": {
     "outputs_hidden": true
    },
    "papermill": {
     "duration": null,
     "end_time": null,
     "exception": null,
     "start_time": null,
     "status": "pending"
    },
    "tags": []
   },
   "outputs": [],
   "source": [
    "correct_predictions = 0\n",
    "total_predictions = 0\n",
    "\n",
    "for fruit_id, img_paths in grouped_images.items():\n",
    "    if 'S' in fruit_id:\n",
    "        true_label = 0\n",
    "    elif 'M' in img_paths[0]:\n",
    "        true_label = 1\n",
    "    elif 'L' in img_paths[0]:\n",
    "        true_label = 2\n",
    "    else:\n",
    "        continue\n",
    "    \n",
    "    final_class, avg_pred = predict_group(persimmon_model, img_paths)\n",
    "\n",
    "    if final_class == true_label:\n",
    "        correct_predictions += 1\n",
    "\n",
    "    total_predictions += 1\n",
    "\n",
    "accuracy = correct_predictions/total_predictions\n",
    "\n",
    "print(accuracy)"
   ]
  },
  {
   "cell_type": "code",
   "execution_count": null,
   "id": "124f3278",
   "metadata": {
    "execution": {
     "iopub.execute_input": "2024-11-24T08:09:04.965018Z",
     "iopub.status.busy": "2024-11-24T08:09:04.964108Z",
     "iopub.status.idle": "2024-11-24T08:09:04.970160Z",
     "shell.execute_reply": "2024-11-24T08:09:04.969307Z",
     "shell.execute_reply.started": "2024-11-24T08:09:04.964946Z"
    },
    "papermill": {
     "duration": null,
     "end_time": null,
     "exception": null,
     "start_time": null,
     "status": "pending"
    },
    "tags": []
   },
   "outputs": [],
   "source": [
    "accuracy"
   ]
  },
  {
   "cell_type": "code",
   "execution_count": null,
   "id": "51040f4a",
   "metadata": {
    "execution": {
     "iopub.execute_input": "2024-11-24T07:16:01.478089Z",
     "iopub.status.busy": "2024-11-24T07:16:01.477328Z"
    },
    "papermill": {
     "duration": null,
     "end_time": null,
     "exception": null,
     "start_time": null,
     "status": "pending"
    },
    "tags": []
   },
   "outputs": [],
   "source": [
    "\n",
    "\n",
    "images = []\n",
    "labels = []\n",
    "test_images = []\n",
    "test_labels = []\n",
    "\n",
    "def load_and_label(image_path, label):\n",
    "    for image in image_path:\n",
    "        img = load_img(image, target_size = (224, 224))\n",
    "        img_array =img_to_array(img) / 225.0\n",
    "        images.append(img_array)\n",
    "        labels.append(label)\n",
    "\n",
    "\n",
    "load_and_label(training_persimmon_bansi_s , 0)\n",
    "load_and_label(training_persimmon_bansi_m, 1)\n",
    "load_and_label(training_persimmon_bansi_l, 2)\n",
    "\n",
    "def test_load_and_label(image_path, label):\n",
    "    for image in image_path:\n",
    "        img = load_img(image, target_size = (224, 224))\n",
    "        img_array =img_to_array(img) / 225.0\n",
    "        test_images.append(img_array)\n",
    "        test_labels.append(label)\n",
    "\n",
    "test_load_and_label(test_persimmon_bansi_s, 0)\n",
    "test_load_and_label(test_persimmon_bansi_m, 1)\n",
    "test_load_and_label(test_persimmon_bansi_l, 2)\n",
    "\n",
    "images = np.array(images)\n",
    "labels = np.array(labels)\n",
    "test_images = np.array(test_images)\n",
    "test_labels = np.array(test_labels)"
   ]
  },
  {
   "cell_type": "code",
   "execution_count": null,
   "id": "19e05d38",
   "metadata": {
    "execution": {
     "iopub.execute_input": "2024-11-24T05:25:00.877456Z",
     "iopub.status.busy": "2024-11-24T05:25:00.877090Z",
     "iopub.status.idle": "2024-11-24T05:25:01.192672Z",
     "shell.execute_reply": "2024-11-24T05:25:01.191599Z",
     "shell.execute_reply.started": "2024-11-24T05:25:00.877410Z"
    },
    "papermill": {
     "duration": null,
     "end_time": null,
     "exception": null,
     "start_time": null,
     "status": "pending"
    },
    "tags": []
   },
   "outputs": [],
   "source": [
    "\n",
    "X_train, X_val, y_train, y_val = train_test_split(images, labels, test_size = 0.2, random_state = 42)\n",
    "\n",
    "\n",
    "print(X_train.shape[0])\n",
    "print(X_val.shape[0])\n",
    "print(images.shape)"
   ]
  },
  {
   "cell_type": "code",
   "execution_count": null,
   "id": "235d503b",
   "metadata": {
    "execution": {
     "iopub.execute_input": "2024-11-24T05:25:01.194476Z",
     "iopub.status.busy": "2024-11-24T05:25:01.194090Z",
     "iopub.status.idle": "2024-11-24T05:25:01.199906Z",
     "shell.execute_reply": "2024-11-24T05:25:01.198890Z",
     "shell.execute_reply.started": "2024-11-24T05:25:01.194435Z"
    },
    "papermill": {
     "duration": null,
     "end_time": null,
     "exception": null,
     "start_time": null,
     "status": "pending"
    },
    "tags": []
   },
   "outputs": [],
   "source": [
    "train_datagen = ImageDataGenerator(\n",
    "    shear_range = 0.2,\n",
    "    zoom_range = 0.2,\n",
    "    horizontal_flip = True\n",
    ")\n",
    "val_datagen = ImageDataGenerator()\n",
    "test_datagen = ImageDataGenerator()\n",
    "\n",
    "train_generator = train_datagen.flow(X_train, y_train, batch_size = 32)\n",
    "val_generator = val_datagen.flow(X_val, y_val, batch_size = 32)\n",
    "test_generator = test_datagen.flow(test_images, test_labels, batch_size = 32)"
   ]
  },
  {
   "cell_type": "code",
   "execution_count": null,
   "id": "fd4f1adc",
   "metadata": {
    "execution": {
     "iopub.execute_input": "2024-11-24T05:25:01.201370Z",
     "iopub.status.busy": "2024-11-24T05:25:01.201056Z",
     "iopub.status.idle": "2024-11-24T05:25:03.405252Z",
     "shell.execute_reply": "2024-11-24T05:25:03.404270Z",
     "shell.execute_reply.started": "2024-11-24T05:25:01.201335Z"
    },
    "papermill": {
     "duration": null,
     "end_time": null,
     "exception": null,
     "start_time": null,
     "status": "pending"
    },
    "tags": []
   },
   "outputs": [],
   "source": [
    "\n",
    "\n",
    "\n",
    "backend.clear_session()\n",
    "model_base = InceptionV3(weights = 'imagenet', include_top = False )\n",
    "\n",
    "InceptionV3_model = model_base.output\n",
    "pool = GlobalAveragePooling2D()(InceptionV3_model)\n",
    "dense_1 = layers.Dense(512, activation = 'relu')(pool)\n",
    "output = layers.Dense(3, activation = 'softmax')(dense_1)\n",
    "\n",
    "\n",
    "model_InceptionV3 = Model(inputs = model_base.input, outputs = output)\n",
    "model_InceptionV3.compile(loss = 'sparse_categorical_crossentropy', \n",
    "                          optimizer = optimizers.SGD(learning_rate = 1e-4, momentum = 0.9),\n",
    "                          metrics = ['accuracy']\n",
    "                         )\n"
   ]
  },
  {
   "cell_type": "code",
   "execution_count": null,
   "id": "334ad513",
   "metadata": {
    "execution": {
     "iopub.execute_input": "2024-11-24T05:25:03.407903Z",
     "iopub.status.busy": "2024-11-24T05:25:03.407568Z",
     "iopub.status.idle": "2024-11-24T05:32:20.280682Z",
     "shell.execute_reply": "2024-11-24T05:32:20.279803Z",
     "shell.execute_reply.started": "2024-11-24T05:25:03.407875Z"
    },
    "papermill": {
     "duration": null,
     "end_time": null,
     "exception": null,
     "start_time": null,
     "status": "pending"
    },
    "tags": []
   },
   "outputs": [],
   "source": [
    "\n",
    "history = model_InceptionV3.fit(\n",
    "    train_generator, \n",
    "    epochs = 25,\n",
    "    validation_data = val_generator,\n",
    "    verbose = 1,\n",
    "    callbacks = [EarlyStopping(monitor = 'val_accuracy', patience= 5, restore_best_weights = True)]\n",
    ")\n",
    "\n",
    "loss, accuracy= model_InceptionV3.evaluate(test_generator)\n",
    "print(loss, accuracy)"
   ]
  }
 ],
 "metadata": {
  "kaggle": {
   "accelerator": "nvidiaTeslaT4",
   "dataSources": [
    {
     "databundleVersionId": 10236731,
     "datasetId": 6134926,
     "sourceId": 9971800,
     "sourceType": "datasetVersion"
    },
    {
     "databundleVersionId": 10236709,
     "datasetId": 6134906,
     "sourceId": 9971778,
     "sourceType": "datasetVersion"
    },
    {
     "databundleVersionId": 10264509,
     "modelInstanceId": 150506,
     "sourceId": 176725,
     "sourceType": "modelInstanceVersion"
    }
   ],
   "dockerImageVersionId": 30787,
   "isGpuEnabled": true,
   "isInternetEnabled": true,
   "language": "python",
   "sourceType": "notebook"
  },
  "kernelspec": {
   "display_name": "Python 3",
   "language": "python",
   "name": "python3"
  },
  "language_info": {
   "codemirror_mode": {
    "name": "ipython",
    "version": 3
   },
   "file_extension": ".py",
   "mimetype": "text/x-python",
   "name": "python",
   "nbconvert_exporter": "python",
   "pygments_lexer": "ipython3",
   "version": "3.10.14"
  },
  "papermill": {
   "default_parameters": {},
   "duration": 29.547892,
   "end_time": "2024-11-24T08:11:12.770348",
   "environment_variables": {},
   "exception": true,
   "input_path": "__notebook__.ipynb",
   "output_path": "__notebook__.ipynb",
   "parameters": {},
   "start_time": "2024-11-24T08:10:43.222456",
   "version": "2.6.0"
  }
 },
 "nbformat": 4,
 "nbformat_minor": 5
}
